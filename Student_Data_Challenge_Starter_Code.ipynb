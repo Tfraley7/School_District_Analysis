{
 "cells": [
  {
   "cell_type": "markdown",
   "id": "9c960cd6-a10b-4e3d-ba23-fe7a3ef7ae95",
   "metadata": {},
   "source": [
    "### Import required dependencies"
   ]
  },
  {
   "cell_type": "code",
   "execution_count": 1,
   "id": "34266c40-c789-42cd-802f-83eedddc4138",
   "metadata": {},
   "outputs": [],
   "source": [
    "import pandas as pd\n",
    "import os"
   ]
  },
  {
   "cell_type": "markdown",
   "id": "a47f3bec-4c1a-4b1e-9747-546678c1bb82",
   "metadata": {},
   "source": [
    "## Deliverable 1: Collect the Data\n",
    "\n",
    "To collect the data that you’ll need, complete the following steps:\n",
    "\n",
    "1. Using the Pandas `read_csv` function and the `os` module, import the data from the `new_full_student_data.csv` file, and create a DataFrame called student_df. \n",
    "\n",
    "2. Use the head function to confirm that Pandas properly imported the data.\n"
   ]
  },
  {
   "cell_type": "code",
   "execution_count": 2,
   "id": "b9d76875-49a9-4591-83d6-2e784bffcb21",
   "metadata": {},
   "outputs": [],
   "source": [
    "# Create the path and import the data\n",
    "full_student_data = os.path.join('../Resources/new_full_student_data.csv')\n",
    "student_df = pd.read_csv(full_student_data)"
   ]
  },
  {
   "cell_type": "code",
   "execution_count": 3,
   "id": "c73ce640-ae34-4d45-9714-40eb55855d94",
   "metadata": {},
   "outputs": [
    {
     "data": {
      "text/html": [
       "<div>\n",
       "<style scoped>\n",
       "    .dataframe tbody tr th:only-of-type {\n",
       "        vertical-align: middle;\n",
       "    }\n",
       "\n",
       "    .dataframe tbody tr th {\n",
       "        vertical-align: top;\n",
       "    }\n",
       "\n",
       "    .dataframe thead th {\n",
       "        text-align: right;\n",
       "    }\n",
       "</style>\n",
       "<table border=\"1\" class=\"dataframe\">\n",
       "  <thead>\n",
       "    <tr style=\"text-align: right;\">\n",
       "      <th></th>\n",
       "      <th>student_id</th>\n",
       "      <th>student_name</th>\n",
       "      <th>grade</th>\n",
       "      <th>school_name</th>\n",
       "      <th>reading_score</th>\n",
       "      <th>math_score</th>\n",
       "      <th>school_type</th>\n",
       "      <th>school_budget</th>\n",
       "    </tr>\n",
       "  </thead>\n",
       "  <tbody>\n",
       "    <tr>\n",
       "      <th>0</th>\n",
       "      <td>103880842</td>\n",
       "      <td>Travis Martin</td>\n",
       "      <td>9th</td>\n",
       "      <td>Sullivan High School</td>\n",
       "      <td>59.0</td>\n",
       "      <td>88.2</td>\n",
       "      <td>Public</td>\n",
       "      <td>961125</td>\n",
       "    </tr>\n",
       "    <tr>\n",
       "      <th>1</th>\n",
       "      <td>45069750</td>\n",
       "      <td>Michael Brown</td>\n",
       "      <td>9th</td>\n",
       "      <td>Dixon High School</td>\n",
       "      <td>94.7</td>\n",
       "      <td>73.5</td>\n",
       "      <td>Charter</td>\n",
       "      <td>870334</td>\n",
       "    </tr>\n",
       "    <tr>\n",
       "      <th>2</th>\n",
       "      <td>45024902</td>\n",
       "      <td>Gabriela Lucero</td>\n",
       "      <td>9th</td>\n",
       "      <td>Wagner High School</td>\n",
       "      <td>89.0</td>\n",
       "      <td>70.4</td>\n",
       "      <td>Public</td>\n",
       "      <td>846745</td>\n",
       "    </tr>\n",
       "    <tr>\n",
       "      <th>3</th>\n",
       "      <td>62582498</td>\n",
       "      <td>Susan Richardson</td>\n",
       "      <td>9th</td>\n",
       "      <td>Silva High School</td>\n",
       "      <td>69.7</td>\n",
       "      <td>80.3</td>\n",
       "      <td>Public</td>\n",
       "      <td>991918</td>\n",
       "    </tr>\n",
       "    <tr>\n",
       "      <th>4</th>\n",
       "      <td>16437227</td>\n",
       "      <td>Sherry Davis</td>\n",
       "      <td>11th</td>\n",
       "      <td>Bowers High School</td>\n",
       "      <td>NaN</td>\n",
       "      <td>27.5</td>\n",
       "      <td>Public</td>\n",
       "      <td>848324</td>\n",
       "    </tr>\n",
       "  </tbody>\n",
       "</table>\n",
       "</div>"
      ],
      "text/plain": [
       "   student_id      student_name grade           school_name  reading_score  \\\n",
       "0   103880842     Travis Martin   9th  Sullivan High School           59.0   \n",
       "1    45069750     Michael Brown   9th     Dixon High School           94.7   \n",
       "2    45024902   Gabriela Lucero   9th    Wagner High School           89.0   \n",
       "3    62582498  Susan Richardson   9th     Silva High School           69.7   \n",
       "4    16437227      Sherry Davis  11th    Bowers High School            NaN   \n",
       "\n",
       "   math_score school_type  school_budget  \n",
       "0        88.2      Public         961125  \n",
       "1        73.5     Charter         870334  \n",
       "2        70.4      Public         846745  \n",
       "3        80.3      Public         991918  \n",
       "4        27.5      Public         848324  "
      ]
     },
     "execution_count": 3,
     "metadata": {},
     "output_type": "execute_result"
    }
   ],
   "source": [
    "# Verify that the data was properly imported\n",
    "student_df.head()"
   ]
  },
  {
   "cell_type": "markdown",
   "id": "d7f4b183-8e6a-4d83-9d40-a5fd665ac07f",
   "metadata": {},
   "source": [
    "## Deliverable 2: Prepare the Data\n",
    "\n",
    "To prepare and clean your data for analysis, complete the following steps:\n",
    "    \n",
    "1. Check for and remove all rows with `NaN`, or missing, values in the student DataFrame. \n",
    "\n",
    "2. Check for and remove all duplicate rows in the student DataFrame.\n",
    "\n",
    "3. Use the `str.replace` function to remove the \"th\" from the grade levels in the grade column.\n",
    "\n",
    "4. Check data types using the `dtypes` property.\n",
    "\n",
    "5. Remove the \"th\" suffix from every value in the grade column using `str` and `replace`.\n",
    "\n",
    "6. Change the grade colum to the `int` type and verify column types.\n",
    "\n",
    "7. Use the head (and/or the tail) function to preview the DataFrame."
   ]
  },
  {
   "cell_type": "code",
   "execution_count": 4,
   "id": "9464841c",
   "metadata": {},
   "outputs": [
    {
     "data": {
      "text/plain": [
       "student_id          0\n",
       "student_name        0\n",
       "grade               0\n",
       "school_name         0\n",
       "reading_score    1968\n",
       "math_score        982\n",
       "school_type         0\n",
       "school_budget       0\n",
       "dtype: int64"
      ]
     },
     "execution_count": 4,
     "metadata": {},
     "output_type": "execute_result"
    }
   ],
   "source": [
    "# Check for null values\n",
    "student_df.isna().sum()"
   ]
  },
  {
   "cell_type": "code",
   "execution_count": 5,
   "id": "ab80d5e8-0294-459e-9d68-19d7fe98c75e",
   "metadata": {},
   "outputs": [
    {
     "data": {
      "text/plain": [
       "student_id       0\n",
       "student_name     0\n",
       "grade            0\n",
       "school_name      0\n",
       "reading_score    0\n",
       "math_score       0\n",
       "school_type      0\n",
       "school_budget    0\n",
       "dtype: int64"
      ]
     },
     "execution_count": 5,
     "metadata": {},
     "output_type": "execute_result"
    }
   ],
   "source": [
    "# Drop rows with null values and verify removal\n",
    "student_df = student_df.dropna()\n",
    "student_df\n",
    "student_df.isna().sum()"
   ]
  },
  {
   "cell_type": "code",
   "execution_count": 6,
   "id": "2292509a-c429-45e2-aa62-bb0397091c76",
   "metadata": {},
   "outputs": [
    {
     "data": {
      "text/plain": [
       "1836"
      ]
     },
     "execution_count": 6,
     "metadata": {},
     "output_type": "execute_result"
    }
   ],
   "source": [
    "# Check for duplicated rows\n",
    "student_df.duplicated()\n",
    "student_df.duplicated().sum()"
   ]
  },
  {
   "cell_type": "code",
   "execution_count": 7,
   "id": "95c0c53e-602f-44a0-b72a-3383dcce09fc",
   "metadata": {},
   "outputs": [
    {
     "data": {
      "text/plain": [
       "0        False\n",
       "1        False\n",
       "2        False\n",
       "3        False\n",
       "5        False\n",
       "         ...  \n",
       "19508    False\n",
       "19509    False\n",
       "19511    False\n",
       "19512    False\n",
       "19513    False\n",
       "Length: 14831, dtype: bool"
      ]
     },
     "execution_count": 7,
     "metadata": {},
     "output_type": "execute_result"
    }
   ],
   "source": [
    "# Drop duplicated rows and verify removal\n",
    "student_df.drop_duplicates(inplace=True)\n",
    "student_df.duplicated()"
   ]
  },
  {
   "cell_type": "code",
   "execution_count": 8,
   "id": "2b9758bb",
   "metadata": {},
   "outputs": [
    {
     "data": {
      "text/html": [
       "<div>\n",
       "<style scoped>\n",
       "    .dataframe tbody tr th:only-of-type {\n",
       "        vertical-align: middle;\n",
       "    }\n",
       "\n",
       "    .dataframe tbody tr th {\n",
       "        vertical-align: top;\n",
       "    }\n",
       "\n",
       "    .dataframe thead th {\n",
       "        text-align: right;\n",
       "    }\n",
       "</style>\n",
       "<table border=\"1\" class=\"dataframe\">\n",
       "  <thead>\n",
       "    <tr style=\"text-align: right;\">\n",
       "      <th></th>\n",
       "      <th>student_id</th>\n",
       "      <th>student_name</th>\n",
       "      <th>grade</th>\n",
       "      <th>school_name</th>\n",
       "      <th>reading_score</th>\n",
       "      <th>math_score</th>\n",
       "      <th>school_type</th>\n",
       "      <th>school_budget</th>\n",
       "    </tr>\n",
       "  </thead>\n",
       "  <tbody>\n",
       "    <tr>\n",
       "      <th>0</th>\n",
       "      <td>103880842</td>\n",
       "      <td>Travis Martin</td>\n",
       "      <td>9th</td>\n",
       "      <td>Sullivan High School</td>\n",
       "      <td>59.0</td>\n",
       "      <td>88.2</td>\n",
       "      <td>Public</td>\n",
       "      <td>961125</td>\n",
       "    </tr>\n",
       "    <tr>\n",
       "      <th>1</th>\n",
       "      <td>45069750</td>\n",
       "      <td>Michael Brown</td>\n",
       "      <td>9th</td>\n",
       "      <td>Dixon High School</td>\n",
       "      <td>94.7</td>\n",
       "      <td>73.5</td>\n",
       "      <td>Charter</td>\n",
       "      <td>870334</td>\n",
       "    </tr>\n",
       "    <tr>\n",
       "      <th>2</th>\n",
       "      <td>45024902</td>\n",
       "      <td>Gabriela Lucero</td>\n",
       "      <td>9th</td>\n",
       "      <td>Wagner High School</td>\n",
       "      <td>89.0</td>\n",
       "      <td>70.4</td>\n",
       "      <td>Public</td>\n",
       "      <td>846745</td>\n",
       "    </tr>\n",
       "    <tr>\n",
       "      <th>3</th>\n",
       "      <td>62582498</td>\n",
       "      <td>Susan Richardson</td>\n",
       "      <td>9th</td>\n",
       "      <td>Silva High School</td>\n",
       "      <td>69.7</td>\n",
       "      <td>80.3</td>\n",
       "      <td>Public</td>\n",
       "      <td>991918</td>\n",
       "    </tr>\n",
       "    <tr>\n",
       "      <th>5</th>\n",
       "      <td>74579444</td>\n",
       "      <td>Cynthia Johnson</td>\n",
       "      <td>9th</td>\n",
       "      <td>Montgomery High School</td>\n",
       "      <td>63.5</td>\n",
       "      <td>76.9</td>\n",
       "      <td>Charter</td>\n",
       "      <td>893368</td>\n",
       "    </tr>\n",
       "    <tr>\n",
       "      <th>...</th>\n",
       "      <td>...</td>\n",
       "      <td>...</td>\n",
       "      <td>...</td>\n",
       "      <td>...</td>\n",
       "      <td>...</td>\n",
       "      <td>...</td>\n",
       "      <td>...</td>\n",
       "      <td>...</td>\n",
       "    </tr>\n",
       "    <tr>\n",
       "      <th>19508</th>\n",
       "      <td>83985333</td>\n",
       "      <td>Deborah Sanders</td>\n",
       "      <td>10th</td>\n",
       "      <td>Silva High School</td>\n",
       "      <td>60.5</td>\n",
       "      <td>64.6</td>\n",
       "      <td>Public</td>\n",
       "      <td>991918</td>\n",
       "    </tr>\n",
       "    <tr>\n",
       "      <th>19509</th>\n",
       "      <td>109236636</td>\n",
       "      <td>Robert Sawyer</td>\n",
       "      <td>12th</td>\n",
       "      <td>Silva High School</td>\n",
       "      <td>43.3</td>\n",
       "      <td>27.2</td>\n",
       "      <td>Public</td>\n",
       "      <td>991918</td>\n",
       "    </tr>\n",
       "    <tr>\n",
       "      <th>19511</th>\n",
       "      <td>95516554</td>\n",
       "      <td>Megan Gill</td>\n",
       "      <td>11th</td>\n",
       "      <td>Wagner High School</td>\n",
       "      <td>93.9</td>\n",
       "      <td>84.1</td>\n",
       "      <td>Public</td>\n",
       "      <td>846745</td>\n",
       "    </tr>\n",
       "    <tr>\n",
       "      <th>19512</th>\n",
       "      <td>65050383</td>\n",
       "      <td>Lori Stone</td>\n",
       "      <td>11th</td>\n",
       "      <td>Bowers High School</td>\n",
       "      <td>94.6</td>\n",
       "      <td>70.9</td>\n",
       "      <td>Public</td>\n",
       "      <td>848324</td>\n",
       "    </tr>\n",
       "    <tr>\n",
       "      <th>19513</th>\n",
       "      <td>34720657</td>\n",
       "      <td>Anna Jensen</td>\n",
       "      <td>12th</td>\n",
       "      <td>Montgomery High School</td>\n",
       "      <td>82.3</td>\n",
       "      <td>42.4</td>\n",
       "      <td>Charter</td>\n",
       "      <td>893368</td>\n",
       "    </tr>\n",
       "  </tbody>\n",
       "</table>\n",
       "<p>14831 rows × 8 columns</p>\n",
       "</div>"
      ],
      "text/plain": [
       "       student_id      student_name grade             school_name  \\\n",
       "0       103880842     Travis Martin   9th    Sullivan High School   \n",
       "1        45069750     Michael Brown   9th       Dixon High School   \n",
       "2        45024902   Gabriela Lucero   9th      Wagner High School   \n",
       "3        62582498  Susan Richardson   9th       Silva High School   \n",
       "5        74579444   Cynthia Johnson   9th  Montgomery High School   \n",
       "...           ...               ...   ...                     ...   \n",
       "19508    83985333   Deborah Sanders  10th       Silva High School   \n",
       "19509   109236636     Robert Sawyer  12th       Silva High School   \n",
       "19511    95516554        Megan Gill  11th      Wagner High School   \n",
       "19512    65050383        Lori Stone  11th      Bowers High School   \n",
       "19513    34720657       Anna Jensen  12th  Montgomery High School   \n",
       "\n",
       "       reading_score  math_score school_type  school_budget  \n",
       "0               59.0        88.2      Public         961125  \n",
       "1               94.7        73.5     Charter         870334  \n",
       "2               89.0        70.4      Public         846745  \n",
       "3               69.7        80.3      Public         991918  \n",
       "5               63.5        76.9     Charter         893368  \n",
       "...              ...         ...         ...            ...  \n",
       "19508           60.5        64.6      Public         991918  \n",
       "19509           43.3        27.2      Public         991918  \n",
       "19511           93.9        84.1      Public         846745  \n",
       "19512           94.6        70.9      Public         848324  \n",
       "19513           82.3        42.4     Charter         893368  \n",
       "\n",
       "[14831 rows x 8 columns]"
      ]
     },
     "execution_count": 8,
     "metadata": {},
     "output_type": "execute_result"
    }
   ],
   "source": [
    "student_df"
   ]
  },
  {
   "cell_type": "code",
   "execution_count": 9,
   "id": "d04088bb-df5a-47b0-990a-c6127bfc9bfd",
   "metadata": {},
   "outputs": [
    {
     "data": {
      "text/plain": [
       "student_id         int64\n",
       "student_name      object\n",
       "grade             object\n",
       "school_name       object\n",
       "reading_score    float64\n",
       "math_score       float64\n",
       "school_type       object\n",
       "school_budget      int64\n",
       "dtype: object"
      ]
     },
     "execution_count": 9,
     "metadata": {},
     "output_type": "execute_result"
    }
   ],
   "source": [
    "# Check data types\n",
    "\n",
    "student_df.dtypes\n",
    "\n"
   ]
  },
  {
   "cell_type": "code",
   "execution_count": 10,
   "id": "f1e2d12e-c56d-47bc-b9a0-01f97400c4a3",
   "metadata": {},
   "outputs": [
    {
     "data": {
      "text/plain": [
       "0         9th\n",
       "1         9th\n",
       "2         9th\n",
       "3         9th\n",
       "5         9th\n",
       "         ... \n",
       "19508    10th\n",
       "19509    12th\n",
       "19511    11th\n",
       "19512    11th\n",
       "19513    12th\n",
       "Name: grade, Length: 14831, dtype: object"
      ]
     },
     "execution_count": 10,
     "metadata": {},
     "output_type": "execute_result"
    }
   ],
   "source": [
    "# Examine the grade column to understand why it is not an int\n",
    "student_df[\"grade\"]"
   ]
  },
  {
   "cell_type": "code",
   "execution_count": 11,
   "id": "29b32018",
   "metadata": {},
   "outputs": [
    {
     "data": {
      "text/plain": [
       "0         9\n",
       "1         9\n",
       "2         9\n",
       "3         9\n",
       "5         9\n",
       "         ..\n",
       "19508    10\n",
       "19509    12\n",
       "19511    11\n",
       "19512    11\n",
       "19513    12\n",
       "Name: grade, Length: 14831, dtype: object"
      ]
     },
     "execution_count": 11,
     "metadata": {},
     "output_type": "execute_result"
    }
   ],
   "source": [
    "# Remove the non-numeric characters and verify the contents of the column\n",
    "student_df['grade'] = student_df['grade'].str.replace('th', '')\n",
    "student_df[\"grade\"]"
   ]
  },
  {
   "cell_type": "code",
   "execution_count": 12,
   "id": "09ebbec2-c5a7-49a9-9a21-f86c0f4c3791",
   "metadata": {},
   "outputs": [
    {
     "data": {
      "text/plain": [
       "student_id         int64\n",
       "student_name      object\n",
       "grade              int64\n",
       "school_name       object\n",
       "reading_score    float64\n",
       "math_score       float64\n",
       "school_type       object\n",
       "school_budget      int64\n",
       "dtype: object"
      ]
     },
     "execution_count": 12,
     "metadata": {},
     "output_type": "execute_result"
    }
   ],
   "source": [
    "# Change the grade column to the int type and verify column types\n",
    "student_df['grade'] = student_df['grade'].astype(int)\n",
    "student_df.dtypes"
   ]
  },
  {
   "cell_type": "markdown",
   "id": "e52c4a6f-7dd7-4bb6-8f75-5f0995e7b32b",
   "metadata": {},
   "source": [
    "## Deliverable 3: Summarize the Data\n",
    "\n",
    "Describe the data using summary statistics on the data as a whole and on individual columns.\n",
    "\n",
    "1. Generate the summary statistics for each DataFrame by using the `describe` function.\n",
    "\n",
    "2. Display the mean math score using the `mean` function. \n",
    "\n",
    "2. Store the minimum reading score as `min_reading_score`."
   ]
  },
  {
   "cell_type": "code",
   "execution_count": 13,
   "id": "ac4fc0af-babd-47fb-9962-66727ea0dc28",
   "metadata": {},
   "outputs": [
    {
     "data": {
      "text/html": [
       "<div>\n",
       "<style scoped>\n",
       "    .dataframe tbody tr th:only-of-type {\n",
       "        vertical-align: middle;\n",
       "    }\n",
       "\n",
       "    .dataframe tbody tr th {\n",
       "        vertical-align: top;\n",
       "    }\n",
       "\n",
       "    .dataframe thead th {\n",
       "        text-align: right;\n",
       "    }\n",
       "</style>\n",
       "<table border=\"1\" class=\"dataframe\">\n",
       "  <thead>\n",
       "    <tr style=\"text-align: right;\">\n",
       "      <th></th>\n",
       "      <th>student_id</th>\n",
       "      <th>grade</th>\n",
       "      <th>reading_score</th>\n",
       "      <th>math_score</th>\n",
       "      <th>school_budget</th>\n",
       "    </tr>\n",
       "  </thead>\n",
       "  <tbody>\n",
       "    <tr>\n",
       "      <th>count</th>\n",
       "      <td>1.483100e+04</td>\n",
       "      <td>14831.000000</td>\n",
       "      <td>14831.000000</td>\n",
       "      <td>14831.000000</td>\n",
       "      <td>14831.000000</td>\n",
       "    </tr>\n",
       "    <tr>\n",
       "      <th>mean</th>\n",
       "      <td>6.975296e+07</td>\n",
       "      <td>10.355539</td>\n",
       "      <td>72.357865</td>\n",
       "      <td>64.675733</td>\n",
       "      <td>893742.749107</td>\n",
       "    </tr>\n",
       "    <tr>\n",
       "      <th>std</th>\n",
       "      <td>3.452909e+07</td>\n",
       "      <td>1.097728</td>\n",
       "      <td>15.224590</td>\n",
       "      <td>15.844093</td>\n",
       "      <td>53938.066467</td>\n",
       "    </tr>\n",
       "    <tr>\n",
       "      <th>min</th>\n",
       "      <td>1.000906e+07</td>\n",
       "      <td>9.000000</td>\n",
       "      <td>10.500000</td>\n",
       "      <td>3.700000</td>\n",
       "      <td>817615.000000</td>\n",
       "    </tr>\n",
       "    <tr>\n",
       "      <th>25%</th>\n",
       "      <td>3.984433e+07</td>\n",
       "      <td>9.000000</td>\n",
       "      <td>62.200000</td>\n",
       "      <td>54.500000</td>\n",
       "      <td>846745.000000</td>\n",
       "    </tr>\n",
       "    <tr>\n",
       "      <th>50%</th>\n",
       "      <td>6.965978e+07</td>\n",
       "      <td>10.000000</td>\n",
       "      <td>73.800000</td>\n",
       "      <td>65.300000</td>\n",
       "      <td>893368.000000</td>\n",
       "    </tr>\n",
       "    <tr>\n",
       "      <th>75%</th>\n",
       "      <td>9.927449e+07</td>\n",
       "      <td>11.000000</td>\n",
       "      <td>84.000000</td>\n",
       "      <td>76.000000</td>\n",
       "      <td>956438.000000</td>\n",
       "    </tr>\n",
       "    <tr>\n",
       "      <th>max</th>\n",
       "      <td>1.299997e+08</td>\n",
       "      <td>12.000000</td>\n",
       "      <td>100.000000</td>\n",
       "      <td>100.000000</td>\n",
       "      <td>991918.000000</td>\n",
       "    </tr>\n",
       "  </tbody>\n",
       "</table>\n",
       "</div>"
      ],
      "text/plain": [
       "         student_id         grade  reading_score    math_score  school_budget\n",
       "count  1.483100e+04  14831.000000   14831.000000  14831.000000   14831.000000\n",
       "mean   6.975296e+07     10.355539      72.357865     64.675733  893742.749107\n",
       "std    3.452909e+07      1.097728      15.224590     15.844093   53938.066467\n",
       "min    1.000906e+07      9.000000      10.500000      3.700000  817615.000000\n",
       "25%    3.984433e+07      9.000000      62.200000     54.500000  846745.000000\n",
       "50%    6.965978e+07     10.000000      73.800000     65.300000  893368.000000\n",
       "75%    9.927449e+07     11.000000      84.000000     76.000000  956438.000000\n",
       "max    1.299997e+08     12.000000     100.000000    100.000000  991918.000000"
      ]
     },
     "execution_count": 13,
     "metadata": {},
     "output_type": "execute_result"
    }
   ],
   "source": [
    "# Display summary statistics for the DataFrame\n",
    "student_df.describe()"
   ]
  },
  {
   "cell_type": "code",
   "execution_count": 14,
   "id": "d94aa5d1",
   "metadata": {},
   "outputs": [
    {
     "data": {
      "text/plain": [
       "64.67573326141189"
      ]
     },
     "execution_count": 14,
     "metadata": {},
     "output_type": "execute_result"
    }
   ],
   "source": [
    "# Display the mean math score using the mean function\n",
    "student_df[\"math_score\"].mean()"
   ]
  },
  {
   "cell_type": "code",
   "execution_count": 15,
   "id": "37ecf181",
   "metadata": {},
   "outputs": [
    {
     "data": {
      "text/plain": [
       "10.5"
      ]
     },
     "execution_count": 15,
     "metadata": {},
     "output_type": "execute_result"
    }
   ],
   "source": [
    "# Store the minimum reading score as min_reading_score\n",
    "min_reading_score = student_df[\"reading_score\"].min()\n",
    "min_reading_score"
   ]
  },
  {
   "cell_type": "markdown",
   "id": "e871f21e-6077-4d70-9c3a-926759d46bed",
   "metadata": {},
   "source": [
    "## Deliverable 4: Drill Down into the Data\n",
    "\n",
    "Drill down to specific rows, columns, and subsets of the data.\n",
    "\n",
    "To drill down into the data, complete the following steps:\n",
    "\n",
    "1. Use `loc` to display the grade column.\n",
    "\n",
    "2. Use `iloc` to display the first 3 rows and columns 3, 4, and 5.\n",
    "\n",
    "3. Show the rows for grade nine using `loc`.\n",
    "\n",
    "4. Store the row with the minimum overall reading score as `min_reading_row` using `loc` and the `min_reading_score` found in Deliverable 3.\n",
    "\n",
    "5. Find the reading scores for the school and grade from the output of step three using `loc` with multiple conditional statements.\n",
    "\n",
    "6. Using conditional statements and `loc` or `iloc`, find the mean reading score for all students in grades 11 and 12 combined."
   ]
  },
  {
   "cell_type": "code",
   "execution_count": 16,
   "id": "78464611",
   "metadata": {},
   "outputs": [
    {
     "data": {
      "text/plain": [
       "0         9\n",
       "1         9\n",
       "2         9\n",
       "3         9\n",
       "5         9\n",
       "         ..\n",
       "19508    10\n",
       "19509    12\n",
       "19511    11\n",
       "19512    11\n",
       "19513    12\n",
       "Name: grade, Length: 14831, dtype: int64"
      ]
     },
     "execution_count": 16,
     "metadata": {},
     "output_type": "execute_result"
    }
   ],
   "source": [
    "# Use loc to display the grade column\n",
    "student_df.loc[:,\"grade\"]"
   ]
  },
  {
   "cell_type": "code",
   "execution_count": 17,
   "id": "ff0fd7cb",
   "metadata": {},
   "outputs": [
    {
     "data": {
      "text/html": [
       "<div>\n",
       "<style scoped>\n",
       "    .dataframe tbody tr th:only-of-type {\n",
       "        vertical-align: middle;\n",
       "    }\n",
       "\n",
       "    .dataframe tbody tr th {\n",
       "        vertical-align: top;\n",
       "    }\n",
       "\n",
       "    .dataframe thead th {\n",
       "        text-align: right;\n",
       "    }\n",
       "</style>\n",
       "<table border=\"1\" class=\"dataframe\">\n",
       "  <thead>\n",
       "    <tr style=\"text-align: right;\">\n",
       "      <th></th>\n",
       "      <th>school_name</th>\n",
       "      <th>reading_score</th>\n",
       "      <th>math_score</th>\n",
       "    </tr>\n",
       "  </thead>\n",
       "  <tbody>\n",
       "    <tr>\n",
       "      <th>0</th>\n",
       "      <td>Sullivan High School</td>\n",
       "      <td>59.0</td>\n",
       "      <td>88.2</td>\n",
       "    </tr>\n",
       "    <tr>\n",
       "      <th>1</th>\n",
       "      <td>Dixon High School</td>\n",
       "      <td>94.7</td>\n",
       "      <td>73.5</td>\n",
       "    </tr>\n",
       "    <tr>\n",
       "      <th>2</th>\n",
       "      <td>Wagner High School</td>\n",
       "      <td>89.0</td>\n",
       "      <td>70.4</td>\n",
       "    </tr>\n",
       "    <tr>\n",
       "      <th>3</th>\n",
       "      <td>Silva High School</td>\n",
       "      <td>69.7</td>\n",
       "      <td>80.3</td>\n",
       "    </tr>\n",
       "    <tr>\n",
       "      <th>5</th>\n",
       "      <td>Montgomery High School</td>\n",
       "      <td>63.5</td>\n",
       "      <td>76.9</td>\n",
       "    </tr>\n",
       "    <tr>\n",
       "      <th>...</th>\n",
       "      <td>...</td>\n",
       "      <td>...</td>\n",
       "      <td>...</td>\n",
       "    </tr>\n",
       "    <tr>\n",
       "      <th>19508</th>\n",
       "      <td>Silva High School</td>\n",
       "      <td>60.5</td>\n",
       "      <td>64.6</td>\n",
       "    </tr>\n",
       "    <tr>\n",
       "      <th>19509</th>\n",
       "      <td>Silva High School</td>\n",
       "      <td>43.3</td>\n",
       "      <td>27.2</td>\n",
       "    </tr>\n",
       "    <tr>\n",
       "      <th>19511</th>\n",
       "      <td>Wagner High School</td>\n",
       "      <td>93.9</td>\n",
       "      <td>84.1</td>\n",
       "    </tr>\n",
       "    <tr>\n",
       "      <th>19512</th>\n",
       "      <td>Bowers High School</td>\n",
       "      <td>94.6</td>\n",
       "      <td>70.9</td>\n",
       "    </tr>\n",
       "    <tr>\n",
       "      <th>19513</th>\n",
       "      <td>Montgomery High School</td>\n",
       "      <td>82.3</td>\n",
       "      <td>42.4</td>\n",
       "    </tr>\n",
       "  </tbody>\n",
       "</table>\n",
       "<p>14831 rows × 3 columns</p>\n",
       "</div>"
      ],
      "text/plain": [
       "                  school_name  reading_score  math_score\n",
       "0        Sullivan High School           59.0        88.2\n",
       "1           Dixon High School           94.7        73.5\n",
       "2          Wagner High School           89.0        70.4\n",
       "3           Silva High School           69.7        80.3\n",
       "5      Montgomery High School           63.5        76.9\n",
       "...                       ...            ...         ...\n",
       "19508       Silva High School           60.5        64.6\n",
       "19509       Silva High School           43.3        27.2\n",
       "19511      Wagner High School           93.9        84.1\n",
       "19512      Bowers High School           94.6        70.9\n",
       "19513  Montgomery High School           82.3        42.4\n",
       "\n",
       "[14831 rows x 3 columns]"
      ]
     },
     "execution_count": 17,
     "metadata": {},
     "output_type": "execute_result"
    }
   ],
   "source": [
    "# Use `iloc` to display the first 3 rows and columns 3, 4, and 5.\n",
    "student_df.iloc[:, [3, 4, 5]]"
   ]
  },
  {
   "cell_type": "markdown",
   "id": "c2978fb5",
   "metadata": {},
   "source": [
    "###### Select the rows for grade nine and display their summary statistics using `loc` and `describe`.\n",
    "grade_nine_df = student_df.loc[student_df[\"grade\"] == 9]\n",
    "grade_nine_df\n"
   ]
  },
  {
   "cell_type": "code",
   "execution_count": 18,
   "id": "e40b203d-6597-487a-82cf-157731148084",
   "metadata": {},
   "outputs": [
    {
     "data": {
      "text/html": [
       "<div>\n",
       "<style scoped>\n",
       "    .dataframe tbody tr th:only-of-type {\n",
       "        vertical-align: middle;\n",
       "    }\n",
       "\n",
       "    .dataframe tbody tr th {\n",
       "        vertical-align: top;\n",
       "    }\n",
       "\n",
       "    .dataframe thead th {\n",
       "        text-align: right;\n",
       "    }\n",
       "</style>\n",
       "<table border=\"1\" class=\"dataframe\">\n",
       "  <thead>\n",
       "    <tr style=\"text-align: right;\">\n",
       "      <th></th>\n",
       "      <th>student_id</th>\n",
       "      <th>student_name</th>\n",
       "      <th>grade</th>\n",
       "      <th>school_name</th>\n",
       "      <th>reading_score</th>\n",
       "      <th>math_score</th>\n",
       "      <th>school_type</th>\n",
       "      <th>school_budget</th>\n",
       "    </tr>\n",
       "  </thead>\n",
       "  <tbody>\n",
       "    <tr>\n",
       "      <th>0</th>\n",
       "      <td>103880842</td>\n",
       "      <td>Travis Martin</td>\n",
       "      <td>9</td>\n",
       "      <td>Sullivan High School</td>\n",
       "      <td>59.0</td>\n",
       "      <td>88.2</td>\n",
       "      <td>Public</td>\n",
       "      <td>961125</td>\n",
       "    </tr>\n",
       "    <tr>\n",
       "      <th>1</th>\n",
       "      <td>45069750</td>\n",
       "      <td>Michael Brown</td>\n",
       "      <td>9</td>\n",
       "      <td>Dixon High School</td>\n",
       "      <td>94.7</td>\n",
       "      <td>73.5</td>\n",
       "      <td>Charter</td>\n",
       "      <td>870334</td>\n",
       "    </tr>\n",
       "    <tr>\n",
       "      <th>2</th>\n",
       "      <td>45024902</td>\n",
       "      <td>Gabriela Lucero</td>\n",
       "      <td>9</td>\n",
       "      <td>Wagner High School</td>\n",
       "      <td>89.0</td>\n",
       "      <td>70.4</td>\n",
       "      <td>Public</td>\n",
       "      <td>846745</td>\n",
       "    </tr>\n",
       "    <tr>\n",
       "      <th>3</th>\n",
       "      <td>62582498</td>\n",
       "      <td>Susan Richardson</td>\n",
       "      <td>9</td>\n",
       "      <td>Silva High School</td>\n",
       "      <td>69.7</td>\n",
       "      <td>80.3</td>\n",
       "      <td>Public</td>\n",
       "      <td>991918</td>\n",
       "    </tr>\n",
       "    <tr>\n",
       "      <th>5</th>\n",
       "      <td>74579444</td>\n",
       "      <td>Cynthia Johnson</td>\n",
       "      <td>9</td>\n",
       "      <td>Montgomery High School</td>\n",
       "      <td>63.5</td>\n",
       "      <td>76.9</td>\n",
       "      <td>Charter</td>\n",
       "      <td>893368</td>\n",
       "    </tr>\n",
       "    <tr>\n",
       "      <th>...</th>\n",
       "      <td>...</td>\n",
       "      <td>...</td>\n",
       "      <td>...</td>\n",
       "      <td>...</td>\n",
       "      <td>...</td>\n",
       "      <td>...</td>\n",
       "      <td>...</td>\n",
       "      <td>...</td>\n",
       "    </tr>\n",
       "    <tr>\n",
       "      <th>19477</th>\n",
       "      <td>14165038</td>\n",
       "      <td>William Smith</td>\n",
       "      <td>9</td>\n",
       "      <td>Dixon High School</td>\n",
       "      <td>69.8</td>\n",
       "      <td>65.0</td>\n",
       "      <td>Charter</td>\n",
       "      <td>870334</td>\n",
       "    </tr>\n",
       "    <tr>\n",
       "      <th>19478</th>\n",
       "      <td>46569330</td>\n",
       "      <td>Angie Flowers</td>\n",
       "      <td>9</td>\n",
       "      <td>Bowers High School</td>\n",
       "      <td>50.4</td>\n",
       "      <td>61.7</td>\n",
       "      <td>Public</td>\n",
       "      <td>848324</td>\n",
       "    </tr>\n",
       "    <tr>\n",
       "      <th>19481</th>\n",
       "      <td>99423494</td>\n",
       "      <td>Sherry Rogers</td>\n",
       "      <td>9</td>\n",
       "      <td>Silva High School</td>\n",
       "      <td>47.0</td>\n",
       "      <td>88.4</td>\n",
       "      <td>Public</td>\n",
       "      <td>991918</td>\n",
       "    </tr>\n",
       "    <tr>\n",
       "      <th>19493</th>\n",
       "      <td>68274108</td>\n",
       "      <td>Mary Murray</td>\n",
       "      <td>9</td>\n",
       "      <td>Wagner High School</td>\n",
       "      <td>63.4</td>\n",
       "      <td>53.4</td>\n",
       "      <td>Public</td>\n",
       "      <td>846745</td>\n",
       "    </tr>\n",
       "    <tr>\n",
       "      <th>19497</th>\n",
       "      <td>56856952</td>\n",
       "      <td>Joshua Holmes</td>\n",
       "      <td>9</td>\n",
       "      <td>Wagner High School</td>\n",
       "      <td>77.2</td>\n",
       "      <td>76.5</td>\n",
       "      <td>Public</td>\n",
       "      <td>846745</td>\n",
       "    </tr>\n",
       "  </tbody>\n",
       "</table>\n",
       "<p>4132 rows × 8 columns</p>\n",
       "</div>"
      ],
      "text/plain": [
       "       student_id      student_name  grade             school_name  \\\n",
       "0       103880842     Travis Martin      9    Sullivan High School   \n",
       "1        45069750     Michael Brown      9       Dixon High School   \n",
       "2        45024902   Gabriela Lucero      9      Wagner High School   \n",
       "3        62582498  Susan Richardson      9       Silva High School   \n",
       "5        74579444   Cynthia Johnson      9  Montgomery High School   \n",
       "...           ...               ...    ...                     ...   \n",
       "19477    14165038     William Smith      9       Dixon High School   \n",
       "19478    46569330     Angie Flowers      9      Bowers High School   \n",
       "19481    99423494     Sherry Rogers      9       Silva High School   \n",
       "19493    68274108       Mary Murray      9      Wagner High School   \n",
       "19497    56856952     Joshua Holmes      9      Wagner High School   \n",
       "\n",
       "       reading_score  math_score school_type  school_budget  \n",
       "0               59.0        88.2      Public         961125  \n",
       "1               94.7        73.5     Charter         870334  \n",
       "2               89.0        70.4      Public         846745  \n",
       "3               69.7        80.3      Public         991918  \n",
       "5               63.5        76.9     Charter         893368  \n",
       "...              ...         ...         ...            ...  \n",
       "19477           69.8        65.0     Charter         870334  \n",
       "19478           50.4        61.7      Public         848324  \n",
       "19481           47.0        88.4      Public         991918  \n",
       "19493           63.4        53.4      Public         846745  \n",
       "19497           77.2        76.5      Public         846745  \n",
       "\n",
       "[4132 rows x 8 columns]"
      ]
     },
     "execution_count": 18,
     "metadata": {},
     "output_type": "execute_result"
    }
   ],
   "source": [
    "grade_nine_df = student_df.loc[student_df[\"grade\"] == 9] \n",
    "grade_nine_df\n"
   ]
  },
  {
   "cell_type": "code",
   "execution_count": 19,
   "id": "7fcd6bfc",
   "metadata": {},
   "outputs": [
    {
     "data": {
      "text/html": [
       "<div>\n",
       "<style scoped>\n",
       "    .dataframe tbody tr th:only-of-type {\n",
       "        vertical-align: middle;\n",
       "    }\n",
       "\n",
       "    .dataframe tbody tr th {\n",
       "        vertical-align: top;\n",
       "    }\n",
       "\n",
       "    .dataframe thead th {\n",
       "        text-align: right;\n",
       "    }\n",
       "</style>\n",
       "<table border=\"1\" class=\"dataframe\">\n",
       "  <thead>\n",
       "    <tr style=\"text-align: right;\">\n",
       "      <th></th>\n",
       "      <th>student_id</th>\n",
       "      <th>student_name</th>\n",
       "      <th>grade</th>\n",
       "      <th>school_name</th>\n",
       "      <th>reading_score</th>\n",
       "      <th>math_score</th>\n",
       "      <th>school_type</th>\n",
       "      <th>school_budget</th>\n",
       "    </tr>\n",
       "  </thead>\n",
       "  <tbody>\n",
       "    <tr>\n",
       "      <th>3706</th>\n",
       "      <td>81758630</td>\n",
       "      <td>Matthew Thomas</td>\n",
       "      <td>10</td>\n",
       "      <td>Dixon High School</td>\n",
       "      <td>10.5</td>\n",
       "      <td>58.4</td>\n",
       "      <td>Charter</td>\n",
       "      <td>870334</td>\n",
       "    </tr>\n",
       "  </tbody>\n",
       "</table>\n",
       "</div>"
      ],
      "text/plain": [
       "      student_id    student_name  grade        school_name  reading_score  \\\n",
       "3706    81758630  Matthew Thomas     10  Dixon High School           10.5   \n",
       "\n",
       "      math_score school_type  school_budget  \n",
       "3706        58.4     Charter         870334  "
      ]
     },
     "execution_count": 19,
     "metadata": {},
     "output_type": "execute_result"
    }
   ],
   "source": [
    "# Store the row with the minimum overall reading score as `min_reading_row`\n",
    "# using `loc` and the `min_reading_score` found in Deliverable 3.\n",
    "min_reading_score = student_df[\"reading_score\"].min()\n",
    "min_reading_row = student_df.loc[student_df[\"reading_score\"] == min_reading_score]\n",
    "min_reading_row"
   ]
  },
  {
   "cell_type": "code",
   "execution_count": 20,
   "id": "f4a44f87-acb8-423e-95ca-88e6f644eeb2",
   "metadata": {
    "scrolled": true
   },
   "outputs": [
    {
     "data": {
      "text/html": [
       "<div>\n",
       "<style scoped>\n",
       "    .dataframe tbody tr th:only-of-type {\n",
       "        vertical-align: middle;\n",
       "    }\n",
       "\n",
       "    .dataframe tbody tr th {\n",
       "        vertical-align: top;\n",
       "    }\n",
       "\n",
       "    .dataframe thead th {\n",
       "        text-align: right;\n",
       "    }\n",
       "</style>\n",
       "<table border=\"1\" class=\"dataframe\">\n",
       "  <thead>\n",
       "    <tr style=\"text-align: right;\">\n",
       "      <th></th>\n",
       "      <th>grade</th>\n",
       "      <th>school_name</th>\n",
       "      <th>reading_score</th>\n",
       "    </tr>\n",
       "  </thead>\n",
       "  <tbody>\n",
       "    <tr>\n",
       "      <th>45</th>\n",
       "      <td>10</td>\n",
       "      <td>Dixon High School</td>\n",
       "      <td>71.1</td>\n",
       "    </tr>\n",
       "    <tr>\n",
       "      <th>60</th>\n",
       "      <td>10</td>\n",
       "      <td>Dixon High School</td>\n",
       "      <td>59.5</td>\n",
       "    </tr>\n",
       "    <tr>\n",
       "      <th>69</th>\n",
       "      <td>10</td>\n",
       "      <td>Dixon High School</td>\n",
       "      <td>88.6</td>\n",
       "    </tr>\n",
       "    <tr>\n",
       "      <th>94</th>\n",
       "      <td>10</td>\n",
       "      <td>Dixon High School</td>\n",
       "      <td>81.5</td>\n",
       "    </tr>\n",
       "    <tr>\n",
       "      <th>100</th>\n",
       "      <td>10</td>\n",
       "      <td>Dixon High School</td>\n",
       "      <td>95.3</td>\n",
       "    </tr>\n",
       "    <tr>\n",
       "      <th>...</th>\n",
       "      <td>...</td>\n",
       "      <td>...</td>\n",
       "      <td>...</td>\n",
       "    </tr>\n",
       "    <tr>\n",
       "      <th>19283</th>\n",
       "      <td>10</td>\n",
       "      <td>Dixon High School</td>\n",
       "      <td>52.9</td>\n",
       "    </tr>\n",
       "    <tr>\n",
       "      <th>19306</th>\n",
       "      <td>10</td>\n",
       "      <td>Dixon High School</td>\n",
       "      <td>58.0</td>\n",
       "    </tr>\n",
       "    <tr>\n",
       "      <th>19344</th>\n",
       "      <td>10</td>\n",
       "      <td>Dixon High School</td>\n",
       "      <td>38.0</td>\n",
       "    </tr>\n",
       "    <tr>\n",
       "      <th>19368</th>\n",
       "      <td>10</td>\n",
       "      <td>Dixon High School</td>\n",
       "      <td>84.4</td>\n",
       "    </tr>\n",
       "    <tr>\n",
       "      <th>19445</th>\n",
       "      <td>10</td>\n",
       "      <td>Dixon High School</td>\n",
       "      <td>43.9</td>\n",
       "    </tr>\n",
       "  </tbody>\n",
       "</table>\n",
       "<p>569 rows × 3 columns</p>\n",
       "</div>"
      ],
      "text/plain": [
       "       grade        school_name  reading_score\n",
       "45        10  Dixon High School           71.1\n",
       "60        10  Dixon High School           59.5\n",
       "69        10  Dixon High School           88.6\n",
       "94        10  Dixon High School           81.5\n",
       "100       10  Dixon High School           95.3\n",
       "...      ...                ...            ...\n",
       "19283     10  Dixon High School           52.9\n",
       "19306     10  Dixon High School           58.0\n",
       "19344     10  Dixon High School           38.0\n",
       "19368     10  Dixon High School           84.4\n",
       "19445     10  Dixon High School           43.9\n",
       "\n",
       "[569 rows x 3 columns]"
      ]
     },
     "execution_count": 20,
     "metadata": {},
     "output_type": "execute_result"
    }
   ],
   "source": [
    "# Use loc with conditionals to select all reading scores from 10th graders at Dixon High School.\n",
    "student_df.loc[(student_df[\"grade\"] == 10) & (student_df[\"school_name\"] == \"Dixon High School\") & (student_df[\"reading_score\"])][[\"grade\", \"school_name\", \"reading_score\"]]\n"
   ]
  },
  {
   "cell_type": "code",
   "execution_count": 21,
   "id": "d6c2a244-c8aa-4cf6-a1e2-ddace72666eb",
   "metadata": {},
   "outputs": [
    {
     "data": {
      "text/plain": [
       "reading_score    74.900381\n",
       "dtype: float64"
      ]
     },
     "execution_count": 21,
     "metadata": {},
     "output_type": "execute_result"
    }
   ],
   "source": [
    "# Find the mean reading score for all students in grades 11 and 12 combined.\n",
    "student_df.loc[(student_df[\"grade\"] == 11) + (student_df[\"grade\"] == 12) & (student_df[\"reading_score\"])][[\"reading_score\"]].mean()"
   ]
  },
  {
   "cell_type": "markdown",
   "id": "177ba341-9b50-4244-93fa-3646120daf51",
   "metadata": {},
   "source": [
    "## Deliverable 5: Make Comparisons Between District and Charter Schools\n",
    "\n",
    "Compare district vs charter schools for budget, size, and scores.\n",
    "\n",
    "Make comparisons within your data by completing the following steps:\n",
    "\n",
    "1. Using the `groupby` and `mean` functions, look at the average reading and math scores per school type.\n",
    "\n",
    "1. Using the `groupby` and `count` functions, find the total number of students at each school.\n",
    "\n",
    "2. Using the `groupby` and `mean` functions, find the average budget per grade for each school type."
   ]
  },
  {
   "cell_type": "code",
   "execution_count": 22,
   "id": "8eac115a-c392-446c-ad83-456d0f87eca7",
   "metadata": {},
   "outputs": [
    {
     "data": {
      "text/html": [
       "<div>\n",
       "<style scoped>\n",
       "    .dataframe tbody tr th:only-of-type {\n",
       "        vertical-align: middle;\n",
       "    }\n",
       "\n",
       "    .dataframe tbody tr th {\n",
       "        vertical-align: top;\n",
       "    }\n",
       "\n",
       "    .dataframe thead th {\n",
       "        text-align: right;\n",
       "    }\n",
       "</style>\n",
       "<table border=\"1\" class=\"dataframe\">\n",
       "  <thead>\n",
       "    <tr style=\"text-align: right;\">\n",
       "      <th></th>\n",
       "      <th>math_score</th>\n",
       "      <th>reading_score</th>\n",
       "    </tr>\n",
       "    <tr>\n",
       "      <th>school_type</th>\n",
       "      <th></th>\n",
       "      <th></th>\n",
       "    </tr>\n",
       "  </thead>\n",
       "  <tbody>\n",
       "    <tr>\n",
       "      <th>Charter</th>\n",
       "      <td>66.761883</td>\n",
       "      <td>72.450603</td>\n",
       "    </tr>\n",
       "    <tr>\n",
       "      <th>Public</th>\n",
       "      <td>62.951576</td>\n",
       "      <td>72.281219</td>\n",
       "    </tr>\n",
       "  </tbody>\n",
       "</table>\n",
       "</div>"
      ],
      "text/plain": [
       "             math_score  reading_score\n",
       "school_type                           \n",
       "Charter       66.761883      72.450603\n",
       "Public        62.951576      72.281219"
      ]
     },
     "execution_count": 22,
     "metadata": {},
     "output_type": "execute_result"
    }
   ],
   "source": [
    "# Use groupby and mean to find the average reading and math scores for each school type.\n",
    "avg_student_scores_by_grade = student_df.groupby(by='school_type').mean()\n",
    "avg_student_scores_by_grade.loc[:, [\"math_score\", \"reading_score\"]]\n",
    "  "
   ]
  },
  {
   "cell_type": "code",
   "execution_count": 23,
   "id": "a3ee96e8-d653-44b1-811f-979880649046",
   "metadata": {
    "scrolled": true
   },
   "outputs": [
    {
     "data": {
      "text/plain": [
       "school_name\n",
       "Montgomery High School    2038\n",
       "Green High School         1961\n",
       "Dixon High School         1583\n",
       "Wagner High School        1541\n",
       "Silva High School         1109\n",
       "Woods High School         1052\n",
       "Sullivan High School       971\n",
       "Turner High School         846\n",
       "Bowers High School         803\n",
       "Fisher High School         798\n",
       "Richard High School        551\n",
       "Campos High School         541\n",
       "Odonnell High School       459\n",
       "Campbell High School       407\n",
       "Chang High School          171\n",
       "Name: student_name, dtype: int64"
      ]
     },
     "execution_count": 23,
     "metadata": {},
     "output_type": "execute_result"
    }
   ],
   "source": [
    "# Use the `groupby`, `count`, and `sort_values` functions to find the\n",
    "# total number of students at each school and sort from most students to least students.\n",
    "\n",
    "school_student_count = student_df.groupby(by= \"school_name\").count().sort_values([\"student_name\"], ascending=False)\n",
    "school_student_count.loc[:, \"student_name\"]\n"
   ]
  },
  {
   "cell_type": "code",
   "execution_count": 24,
   "id": "3e9018ab-17db-431d-98ef-0c7195b647bb",
   "metadata": {},
   "outputs": [
    {
     "data": {
      "text/html": [
       "<div>\n",
       "<style scoped>\n",
       "    .dataframe tbody tr th:only-of-type {\n",
       "        vertical-align: middle;\n",
       "    }\n",
       "\n",
       "    .dataframe tbody tr th {\n",
       "        vertical-align: top;\n",
       "    }\n",
       "\n",
       "    .dataframe thead th {\n",
       "        text-align: right;\n",
       "    }\n",
       "</style>\n",
       "<table border=\"1\" class=\"dataframe\">\n",
       "  <thead>\n",
       "    <tr style=\"text-align: right;\">\n",
       "      <th></th>\n",
       "      <th>school_budget</th>\n",
       "    </tr>\n",
       "    <tr>\n",
       "      <th>school_type</th>\n",
       "      <th></th>\n",
       "    </tr>\n",
       "  </thead>\n",
       "  <tbody>\n",
       "    <tr>\n",
       "      <th>Charter</th>\n",
       "      <td>872625.656236</td>\n",
       "    </tr>\n",
       "    <tr>\n",
       "      <th>Public</th>\n",
       "      <td>911195.558251</td>\n",
       "    </tr>\n",
       "  </tbody>\n",
       "</table>\n",
       "</div>"
      ],
      "text/plain": [
       "             school_budget\n",
       "school_type               \n",
       "Charter      872625.656236\n",
       "Public       911195.558251"
      ]
     },
     "execution_count": 24,
     "metadata": {},
     "output_type": "execute_result"
    }
   ],
   "source": [
    "avg_budget = student_df.groupby(by='school_type').mean()\n",
    "avg_budget.loc[:, [\"school_budget\"]]"
   ]
  },
  {
   "cell_type": "code",
   "execution_count": 25,
   "id": "a8322b73",
   "metadata": {},
   "outputs": [
    {
     "data": {
      "text/html": [
       "<div>\n",
       "<style scoped>\n",
       "    .dataframe tbody tr th:only-of-type {\n",
       "        vertical-align: middle;\n",
       "    }\n",
       "\n",
       "    .dataframe tbody tr th {\n",
       "        vertical-align: top;\n",
       "    }\n",
       "\n",
       "    .dataframe thead th {\n",
       "        text-align: right;\n",
       "    }\n",
       "</style>\n",
       "<table border=\"1\" class=\"dataframe\">\n",
       "  <thead>\n",
       "    <tr style=\"text-align: right;\">\n",
       "      <th></th>\n",
       "      <th>grade</th>\n",
       "    </tr>\n",
       "    <tr>\n",
       "      <th>school_type</th>\n",
       "      <th></th>\n",
       "    </tr>\n",
       "  </thead>\n",
       "  <tbody>\n",
       "    <tr>\n",
       "      <th>Charter</th>\n",
       "      <td>10.346744</td>\n",
       "    </tr>\n",
       "    <tr>\n",
       "      <th>Public</th>\n",
       "      <td>10.362808</td>\n",
       "    </tr>\n",
       "  </tbody>\n",
       "</table>\n",
       "</div>"
      ],
      "text/plain": [
       "                 grade\n",
       "school_type           \n",
       "Charter      10.346744\n",
       "Public       10.362808"
      ]
     },
     "execution_count": 25,
     "metadata": {},
     "output_type": "execute_result"
    }
   ],
   "source": [
    "avg_grade = student_df.groupby(by='school_type').mean()\n",
    "avg_grade.loc[:, [\"grade\"]]"
   ]
  },
  {
   "cell_type": "code",
   "execution_count": 26,
   "id": "a8da4c36",
   "metadata": {},
   "outputs": [
    {
     "data": {
      "text/html": [
       "<div>\n",
       "<style scoped>\n",
       "    .dataframe tbody tr th:only-of-type {\n",
       "        vertical-align: middle;\n",
       "    }\n",
       "\n",
       "    .dataframe tbody tr th {\n",
       "        vertical-align: top;\n",
       "    }\n",
       "\n",
       "    .dataframe thead th {\n",
       "        text-align: right;\n",
       "    }\n",
       "</style>\n",
       "<table border=\"1\" class=\"dataframe\">\n",
       "  <thead>\n",
       "    <tr style=\"text-align: right;\">\n",
       "      <th></th>\n",
       "      <th>math_score</th>\n",
       "      <th>reading_score</th>\n",
       "      <th>school_budget</th>\n",
       "    </tr>\n",
       "    <tr>\n",
       "      <th>school_type</th>\n",
       "      <th></th>\n",
       "      <th></th>\n",
       "      <th></th>\n",
       "    </tr>\n",
       "  </thead>\n",
       "  <tbody>\n",
       "    <tr>\n",
       "      <th>Charter</th>\n",
       "      <td>66.761883</td>\n",
       "      <td>72.450603</td>\n",
       "      <td>872625.656236</td>\n",
       "    </tr>\n",
       "    <tr>\n",
       "      <th>Public</th>\n",
       "      <td>62.951576</td>\n",
       "      <td>72.281219</td>\n",
       "      <td>911195.558251</td>\n",
       "    </tr>\n",
       "  </tbody>\n",
       "</table>\n",
       "</div>"
      ],
      "text/plain": [
       "             math_score  reading_score  school_budget\n",
       "school_type                                          \n",
       "Charter       66.761883      72.450603  872625.656236\n",
       "Public        62.951576      72.281219  911195.558251"
      ]
     },
     "execution_count": 26,
     "metadata": {},
     "output_type": "execute_result"
    }
   ],
   "source": [
    "#Observation of school type's math and reading scores vs budget\n",
    "avg_student_scores_by_grade = student_df.groupby(by='school_type').mean()\n",
    "avg_student_scores_by_grade.loc[:, [\"math_score\", \"reading_score\", \"school_budget\"]]"
   ]
  },
  {
   "cell_type": "code",
   "execution_count": 27,
   "id": "3faff815",
   "metadata": {},
   "outputs": [],
   "source": [
    "#How can I analyze school type, grade level, scores, and budget?\n"
   ]
  },
  {
   "cell_type": "markdown",
   "id": "bbd0576f-e986-457c-930f-0eb8ee435b57",
   "metadata": {},
   "source": [
    "# Deliverable 6: Summarize Your Findings\n",
    "In the cell below, write a few sentences to describe any discoveries you made while performing your analysis along with any additional analysis you believe would be worthwhile."
   ]
  },
  {
   "cell_type": "code",
   "execution_count": null,
   "id": "9426e226",
   "metadata": {},
   "outputs": [],
   "source": []
  },
  {
   "attachments": {},
   "cell_type": "markdown",
   "id": "396f269c-7081-4e43-a203-0a2750b51fa4",
   "metadata": {},
   "source": [
    "    The \"Student Data Challenger Starter Code\" data was analyzed with the use of Pandas and exercised in a Jupyter notebook. Upon analysis of the \"Student Data Challenger Starter Code\" the average math and reading scores were similar for both types of schools. The Public and Charter schools had an average reading score of 72%. Albeit, close in results the average math scores did slightly differ. Mathematical scores fo Public schools came in at 62% and Charter schools came in at 66%. When considering budget and it's causual relationship with grade averages it does denote some concern, considering the average budget for the charter schools is $38,570 on average. This could beg one to consider class room sizes, teacher salaries, teaching methods, types classrom materials, etc as possible variables that could be causing Charter schools to slightly out perform Public schools (on average) when observing the differences in budgets. \n",
    "    \n",
    "    Overall, this was an important challenge to work through. Initially, the importing of data was not only important, but verifying that it was properly imported was equally crucial. This was handled through the .head() function which allowed me to analyze the data set in a data frame format with the necessary columns and first five rows of the data set. From this point, it was necessary to verify and remove missing values (.insa().sum() & .dropna()). Such functions allows one to quickly clean up the data to produce more reliable results. According to Data Independent (N.D.), \"It is super helpful when you want to make sure you data has a unique key or unique rows.\" In addition to this procedure, I checked and removed duplicate rows (.duplicated().sum() & .drop_duplicates(inplace=True)) and verified data types with .dtypes to identify integers, floating numbers, and objects. Such clean up in data also may require removing certain entries within the data to allow the analyst to disiminate data even further. At this point in my research it was important to remove non-numeric characters from the school grades, because initially the school grade column contained objects due to the \"th\" following the numerical value of the grade. The letters were then removed later by using .str.replace('th', '') allowing only a numerical value being present in the student grade column, thus changing student grade from object to int64. \n",
    "   Midway through the analysis it was vital to then summarize the data through the .describe(), .mean(), and .min() functions. According to Melissa Rodrigues (2020), \"describe(): generates descriptive statistics that will provide visibility of the dispersion and shape of a dataset’s distribution.\" For reporting reasons, the emprical data underwent analysis by finding the average mathematical score  and the minimum reading score for the entire data set. These methods sparked interest in the data set that could embark on further questioning of the data set in a way that contributes to the research overall. For instance, based on the provided findings I have produced another individual may be able to mirror the practices to analyze this data set. They could do this by collecting real world school data and analyze mathematical and reading scores versus school fundings on only a school level or a grade and school level. However, for ethical reasons it is important to note that this research more than likely already exists and may not be able to be published unless one finds a phenomena within the data that has not been explored yet. If that is the case I encourage the individual(s) to take this further if the uncharted phenomena is found. If not for scholarly research, this is still a usefull data set for any one practicing Data Analytics, especially when they want to exercise inferring upon causual relationships. In addition, they could take it further and compare Public versus Charter schools under the same perameters as well. To do so, it is useful to use .iloc[] and .loc[] as I have throughout the script, because it allows an individual to structure the data frame in a way that is succinct and customizable. However, it is important to keep in mind ethics at this point and ensure that the data frames are not altered in such a way to fit a bias. According to Shoonenboom and Burke Johnson (2017), \"to design a mixed study, researchers must understand and carefully consider each of the dimensions of mixed methods design, and always keep an eye on the issue of validity.\" Finally, going back to the initial thought of parcing through data using .loc[] and .iloc[]. I used .groupby() and .sort_values() to dissiminate the data even further because I wanted to drill down to finding mean scores for Charter and Public schools, the total count (.count()) of students at the schools,  and the average budget of the Charter and Public schools. When using .groupby() the analyst, can aggregate data with functions such as: sum, max, min, and many other functions as well, (Rodriguez, 2020). \n",
    "   In closing, the findings in this data set drew up causual relationships between Charter and Public schools' budgets and grades. This was found through proper data collection, summarizing, and data analytics parsing techniques through Pandas fuctions. As mentioned, such data could be contributed to the community through further research to infer upon educational performance between the two types of schools. This would possibly be best demonstrated in a mixed methods study, but could be done through quantitative analysis alone if one does not want to capture thoughts and feelings of the participants and only numerical values of the subjects. According to Schonenboom and Burke Johnson (2017) \"mixed methods research (“Mixed Methods” or “MM”) is the sibling of multimethod research (“Methodenkombination”) in which either solely multiple qualitative approaches or solely multiple quantitative approaches are combined.\" However, in order to do this one may have to compile more research based on teaching styles and methods of the schools and the school types overall by usings the .join() function within Python. \n",
    "   \n",
    "   \n",
    "\n",
    "References:\n",
    "\n",
    "Data Independent. (N.D.). Pandas Drop Duplicates - pd.df.drop_duplicates(). https://dataindependent.com/pandas/pandas-drop-duplicates-pd-df-drop_duplicates/\n",
    "\n",
    "Rodriguez, M. (2020, July 28). How to Summarize Data with Pandas. Medium.com. Analytics Vidhya.https://medium.com/analytics-vidhya/how-to-summarize-data-with-pandas-2c9edffafbaf#dee7\n",
    "\n",
    "Schoonenboom, J. & Burke Johnson, R. (2017, July 5). NCBI. How to Construct a Mixed methods Research Design.https://www.ncbi.nlm.nih.gov/pmc/articles/PMC5602001/. 107-131 doi: 10.1007/s11577-017-0454-1\n",
    "    "
   ]
  }
 ],
 "metadata": {
  "kernelspec": {
   "display_name": "Python 3 (ipykernel)",
   "language": "python",
   "name": "python3"
  },
  "language_info": {
   "codemirror_mode": {
    "name": "ipython",
    "version": 3
   },
   "file_extension": ".py",
   "mimetype": "text/x-python",
   "name": "python",
   "nbconvert_exporter": "python",
   "pygments_lexer": "ipython3",
   "version": "3.9.12"
  }
 },
 "nbformat": 4,
 "nbformat_minor": 5
}
